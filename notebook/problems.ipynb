{
 "cells": [
  {
   "cell_type": "markdown",
   "id": "a41f3622",
   "metadata": {},
   "source": [
    "# Probability exercises"
   ]
  },
  {
   "cell_type": "markdown",
   "id": "a6bdbd89",
   "metadata": {},
   "source": [
    "## Exercise 1 \n",
    "\n",
    "Two dices are thrown once and the total score is observed. Use a simulation to find the estimated probability that the total score is even or greater than 7.  A simulation is a repetition of the same experiment multiple times to observe its behavior:\n",
    "\n",
    "- Run the experiment 1000 times (roll 2 dice 1000 times, and sum the number of both dices).\n",
    "- Keep track of the number of times that the sum was either greater than 7 or an even number.\n",
    "- Divide the number from step 2 by the number of iterations (1000)."
   ]
  },
  {
   "cell_type": "code",
   "execution_count": 26,
   "id": "8939d892",
   "metadata": {},
   "outputs": [
    {
     "name": "stdout",
     "output_type": "stream",
     "text": [
      "Probabilidad: 0.696\n"
     ]
    }
   ],
   "source": [
    "# TODO\n",
    "# Se importa la librería random\n",
    "import random\n",
    "\n",
    "# Se realiza el lanzamiento de los dados\n",
    "counter = 0\n",
    "for _ in range(1, 1001):\n",
    "    dice1 = random.randint(1, 6)\n",
    "    dice2 = random.randint(1, 6)\n",
    "    sum = dice1 + dice2\n",
    "    if sum > 7 or sum % 2 == 0:\n",
    "        counter = counter + 1\n",
    "        #print(sum)\n",
    "\n",
    "propability = counter/1000\n",
    "\n",
    "print(f'Probabilidad: {propability}')"
   ]
  },
  {
   "cell_type": "markdown",
   "id": "2be962b6",
   "metadata": {},
   "source": [
    "Conclusión:  Al lanzar los dos lados, con muy poca variación, la probabilidad se mantiene alrededor de:  `0.6`"
   ]
  },
  {
   "cell_type": "markdown",
   "id": "55732bca",
   "metadata": {},
   "source": [
    "## Exercise 2\n",
    "\n",
    "A box contains 10 white balls, 20 red balls and 30 green balls. If we take 5 balls from the box with replacement (we take the ball, observe what color it is and put it back into the box). We want to know the probability of:\n",
    "\n",
    "1. Take 3 white and 2 red.\n",
    "2. Take all of the same color.\n",
    "\n",
    "Run the experiment 1000 times and calculate the above probabilities."
   ]
  },
  {
   "cell_type": "code",
   "execution_count": 116,
   "id": "23244d20",
   "metadata": {},
   "outputs": [
    {
     "name": "stdout",
     "output_type": "stream",
     "text": [
      "Take 3 white and 2 red probability: 0.005\n",
      "All are the same color: 0.0\n"
     ]
    }
   ],
   "source": [
    "ball_box = {}\n",
    "\n",
    "# Create the box of balls\n",
    "for i in range(60):\n",
    "    if i < 10:\n",
    "        ball_box[i] = \"White\"\n",
    "    elif (i > 9) and (i < 30):\n",
    "        ball_box[i] = \"Red\"\n",
    "    else:\n",
    "        ball_box[i] = \"Green\"\n",
    "\n",
    "#print(ball_box)\n",
    "            \n",
    "# TODO\n",
    "\n",
    "counter_3w_and_2r = 0\n",
    "counter_all_same_color = 0\n",
    "\n",
    "for _ in range(1, 1001):\n",
    "    choices = random.choices(ball_box, k = 5)\n",
    "    coincidence = len([x for x in choices[1:] if x == choices[0]])\n",
    "    \n",
    "    if choices.count(\"White\") == 3 and choices.count(\"Red\") == 2:\n",
    "        counter_3w_and_2r = counter_3w_and_2r + 1\n",
    "        \n",
    "    if coincidence == 5:\n",
    "        counter_all_same_color = counter_all_same_color + 1\n",
    "\n",
    "probability_3w_and_2r = counter_3w_and_2r / 1000\n",
    "probability_all_same_color = counter_all_same_color / 1000\n",
    "\n",
    "print(f'Take 3 white and 2 red probability: {probability_3w_and_2r}')\n",
    "print(f'All are the same color: {probability_all_same_color}')"
   ]
  },
  {
   "cell_type": "markdown",
   "id": "5e2ca403",
   "metadata": {},
   "source": [
    "Conclusión: Para este segundo ejercicio, podemos ver que para el primer caso, siempre hay una probabilidad, aunque pequeña, de que se obtengan 3 pelotas blancas y 2 pelotas rojas. \n",
    "Por otro lado, se complica más que se puedan obtener todas las pelotas del mismo color, aunque se jugó con el número de intentos, con números grandes, es muy difícil que las 5 pelotas sean del mismo color."
   ]
  }
 ],
 "metadata": {
  "kernelspec": {
   "display_name": "Python 3",
   "language": "python",
   "name": "python3"
  },
  "language_info": {
   "codemirror_mode": {
    "name": "ipython",
    "version": 3
   },
   "file_extension": ".py",
   "mimetype": "text/x-python",
   "name": "python",
   "nbconvert_exporter": "python",
   "pygments_lexer": "ipython3",
   "version": "3.11.4"
  }
 },
 "nbformat": 4,
 "nbformat_minor": 5
}
